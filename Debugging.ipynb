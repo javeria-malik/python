{
 "cells": [
  {
   "cell_type": "code",
   "execution_count": 2,
   "id": "e034930c",
   "metadata": {},
   "outputs": [
    {
     "name": "stdout",
     "output_type": "stream",
     "text": [
      "height:8\n",
      "\n",
      "#\n",
      "##\n",
      "###\n",
      "####\n",
      "#####\n",
      "######\n",
      "#######\n"
     ]
    }
   ],
   "source": [
    "def main():\n",
    "    height=int(input(\"height:\"))\n",
    "    pyramid(height)\n",
    "def pyramid(n):\n",
    "    for i in range(n):\n",
    "        print(\"#\"*i)\n",
    "if __name__ ==\"__main__\":# this code is not run untill you call it\n",
    "            main()\n"
   ]
  },
  {
   "cell_type": "code",
   "execution_count": 8,
   "id": "ae5ef7da",
   "metadata": {},
   "outputs": [
    {
     "name": "stdout",
     "output_type": "stream",
     "text": [
      "hello lets figur out which you want to do \n"
     ]
    }
   ],
   "source": [
    "def add(x,y):\n",
    "    return(x+y)\n",
    "def sub(x,y):\n",
    "    return(x-y)\n",
    "if __name__==\"__main__\":\n",
    "    print(\"hello lets figur out which you want to do \")\n",
    "    add(5,3)"
   ]
  },
  {
   "cell_type": "code",
   "execution_count": 7,
   "id": "e36375f5",
   "metadata": {},
   "outputs": [
    {
     "name": "stdout",
     "output_type": "stream",
     "text": [
      "Running the main block of code.\n",
      "This function does something.\n"
     ]
    }
   ],
   "source": [
    "def some_function():\n",
    "    print(\"This function does something.\")\n",
    "\n",
    "def another_function():\n",
    "    print(\"This function does something else.\")\n",
    "\n",
    "if __name__ == \"__main__\":\n",
    "    print(\"Running the main block of code.\")\n",
    "    some_function()\n",
    "    \n",
    "\n"
   ]
  },
  {
   "cell_type": "code",
   "execution_count": 12,
   "id": "c6d43497",
   "metadata": {},
   "outputs": [
    {
     "name": "stdout",
     "output_type": "stream",
     "text": [
      "hello lets figur out which you want to do \n",
      "16\n"
     ]
    }
   ],
   "source": [
    "def add(x,y):\n",
    "    return(x+y)\n",
    "def sub(x,y):\n",
    "    return(x-y)\n",
    "if __name__==\"__main__\":\n",
    "    print(\"hello lets figur out which you want to do \")\n",
    "    result=add(7,9)\n",
    "    print(result)"
   ]
  },
  {
   "cell_type": "code",
   "execution_count": 13,
   "id": "9d62f307",
   "metadata": {},
   "outputs": [
    {
     "name": "stdout",
     "output_type": "stream",
     "text": [
      "hello lets figur out which you want to do \n"
     ]
    }
   ],
   "source": [
    "def add(x,y):\n",
    "    return(x+y)\n",
    "def sub(x,y):\n",
    "    return(x-y)\n",
    "if __name__==\"__main__\":\n",
    "    print(\"hello lets figur out which you want to do \")\n",
    "    add(7,9)\n",
    "    #will not give output this way"
   ]
  },
  {
   "cell_type": "code",
   "execution_count": 14,
   "id": "21c2ceef",
   "metadata": {},
   "outputs": [
    {
     "name": "stdout",
     "output_type": "stream",
     "text": [
      "height:3\n",
      "0 \n",
      "1 #\n",
      "2 ##\n"
     ]
    }
   ],
   "source": [
    "def main():\n",
    "    height=int(input(\"height:\"))\n",
    "    pyramid(height)\n",
    "def pyramid(n):\n",
    "    for i in range(n):\n",
    "        print(i,end=\" \")\n",
    "        print(\"#\"*i)\n",
    "if __name__ ==\"__main__\":# this code is not run untill you call it\n",
    "            main()\n"
   ]
  },
  {
   "cell_type": "code",
   "execution_count": 18,
   "id": "18be9a48",
   "metadata": {},
   "outputs": [
    {
     "name": "stdout",
     "output_type": "stream",
     "text": [
      "height:6\n",
      "1 #\n",
      "2 ##\n",
      "3 ###\n",
      "4 ####\n",
      "5 #####\n",
      "6 ######\n"
     ]
    }
   ],
   "source": [
    "#starting from indexing one\n",
    "def main():\n",
    "    height=int(input(\"height:\"))\n",
    "    pyramid(height)\n",
    "def pyramid(n):\n",
    "    for i in range(n):\n",
    "        \n",
    "        print(i+1,\"#\"*(i+1))\n",
    "if __name__ ==\"__main__\":# this code is not run untill you call it\n",
    "            main()\n"
   ]
  },
  {
   "cell_type": "code",
   "execution_count": null,
   "id": "561dc19d",
   "metadata": {},
   "outputs": [],
   "source": [
    "#breakpoints\n"
   ]
  }
 ],
 "metadata": {
  "kernelspec": {
   "display_name": "Python 3 (ipykernel)",
   "language": "python",
   "name": "python3"
  },
  "language_info": {
   "codemirror_mode": {
    "name": "ipython",
    "version": 3
   },
   "file_extension": ".py",
   "mimetype": "text/x-python",
   "name": "python",
   "nbconvert_exporter": "python",
   "pygments_lexer": "ipython3",
   "version": "3.11.4"
  }
 },
 "nbformat": 4,
 "nbformat_minor": 5
}
