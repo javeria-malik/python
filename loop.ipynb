{
  "nbformat": 4,
  "nbformat_minor": 0,
  "metadata": {
    "colab": {
      "provenance": []
    },
    "kernelspec": {
      "name": "python3",
      "display_name": "Python 3"
    },
    "language_info": {
      "name": "python"
    }
  },
  "cells": [
    {
      "cell_type": "code",
      "execution_count": 2,
      "metadata": {
        "id": "bADpLzbRr52w"
      },
      "outputs": [],
      "source": [
        "#while loop"
      ]
    },
    {
      "cell_type": "markdown",
      "source": [
        "while **loop**\n"
      ],
      "metadata": {
        "id": "52k_J4x0sr4F"
      }
    },
    {
      "cell_type": "code",
      "source": [
        "i=3\n",
        "while i!=0:\n",
        "  print(\"hello\")\n",
        "  i=i-1#the loop itertqe untill we reqch to the value of i =0"
      ],
      "metadata": {
        "colab": {
          "base_uri": "https://localhost:8080/"
        },
        "id": "xFjfDU7Es2ow",
        "outputId": "2c74d705-9f0b-4c0e-adb5-b1546d81dea2"
      },
      "execution_count": 7,
      "outputs": [
        {
          "output_type": "stream",
          "name": "stdout",
          "text": [
            "hello\n",
            "hello\n",
            "hello\n"
          ]
        }
      ]
    },
    {
      "cell_type": "code",
      "source": [
        "i=0\n",
        "while i<=3:\n",
        "  print(\"hello\")#it will run 4 tims\n",
        "  i=i+1"
      ],
      "metadata": {
        "colab": {
          "base_uri": "https://localhost:8080/"
        },
        "id": "Y0bk7xRXtHWl",
        "outputId": "09bb8131-5f9f-432d-fe9d-51868dd0ca0c"
      },
      "execution_count": 11,
      "outputs": [
        {
          "output_type": "stream",
          "name": "stdout",
          "text": [
            "hello\n",
            "hello\n",
            "hello\n",
            "hello\n"
          ]
        }
      ]
    },
    {
      "cell_type": "code",
      "source": [
        "#for 3 times\n",
        "i=0\n",
        "while i<3:\n",
        "  print(\"hello\")#it will run 4 tims\n",
        "  i=i+1"
      ],
      "metadata": {
        "colab": {
          "base_uri": "https://localhost:8080/"
        },
        "id": "40i28AasuaYN",
        "outputId": "a355de15-8753-4060-9c1f-3443ad61d9df"
      },
      "execution_count": 12,
      "outputs": [
        {
          "output_type": "stream",
          "name": "stdout",
          "text": [
            "hello\n",
            "hello\n",
            "hello\n"
          ]
        }
      ]
    },
    {
      "cell_type": "code",
      "source": [
        "#you cant use i++ and i-- in python .... should have use i+=1"
      ],
      "metadata": {
        "id": "Sy1yTVugu2Gs"
      },
      "execution_count": 13,
      "outputs": []
    },
    {
      "cell_type": "code",
      "source": [
        "#for loop\n"
      ],
      "metadata": {
        "id": "vK87aQXnvGLS"
      },
      "execution_count": 14,
      "outputs": []
    },
    {
      "cell_type": "code",
      "source": [
        "for i in [0,1,3]:\n",
        "  print(\"hello\")"
      ],
      "metadata": {
        "colab": {
          "base_uri": "https://localhost:8080/"
        },
        "id": "6d_sCXx9xl-B",
        "outputId": "0db5031a-d77f-4368-99d7-832308df329b"
      },
      "execution_count": 15,
      "outputs": [
        {
          "output_type": "stream",
          "name": "stdout",
          "text": [
            "hello\n",
            "hello\n",
            "hello\n"
          ]
        }
      ]
    },
    {
      "cell_type": "code",
      "source": [
        "for i in range(4):\n",
        "  print(\"hello\")"
      ],
      "metadata": {
        "colab": {
          "base_uri": "https://localhost:8080/"
        },
        "id": "7nVVJZVyyK62",
        "outputId": "6c7a69b6-7b98-4dcc-8300-22097df5a9d6"
      },
      "execution_count": 16,
      "outputs": [
        {
          "output_type": "stream",
          "name": "stdout",
          "text": [
            "hello\n",
            "hello\n",
            "hello\n",
            "hello\n"
          ]
        }
      ]
    },
    {
      "cell_type": "code",
      "source": [
        "#if we see in aove the i is not require as there is no need to define the datatype\n",
        "for _ in range(4):#its the one improvement in python since there is no need to define data tye\n",
        "  print(\"hello\")\n"
      ],
      "metadata": {
        "colab": {
          "base_uri": "https://localhost:8080/"
        },
        "id": "T7gtCCLKylre",
        "outputId": "8419a131-bff0-4794-a9fe-6cef24e495cc"
      },
      "execution_count": 17,
      "outputs": [
        {
          "output_type": "stream",
          "name": "stdout",
          "text": [
            "hello\n",
            "hello\n",
            "hello\n",
            "hello\n"
          ]
        }
      ]
    },
    {
      "cell_type": "code",
      "source": [
        "# short hand method\n",
        "print(\"hello\"*3)# as we see they all print in the same line but we all want it in seprtaed line for this"
      ],
      "metadata": {
        "colab": {
          "base_uri": "https://localhost:8080/"
        },
        "id": "q9QL6R_0zFzg",
        "outputId": "81db826b-a171-4c56-b88c-39add17c1ee1"
      },
      "execution_count": 18,
      "outputs": [
        {
          "output_type": "stream",
          "name": "stdout",
          "text": [
            "hellohellohello\n"
          ]
        }
      ]
    },
    {
      "cell_type": "code",
      "source": [
        "# short hand method\n",
        "print(\"hello\\n\"*3,end=\"\")# as we see they all print in the same line but we all want it in seprtaed line for this"
      ],
      "metadata": {
        "colab": {
          "base_uri": "https://localhost:8080/"
        },
        "id": "Mcnww9vjzeDA",
        "outputId": "0503fa53-db1c-498f-f466-b459975ad69f"
      },
      "execution_count": 23,
      "outputs": [
        {
          "output_type": "stream",
          "name": "stdout",
          "text": [
            "hello\n",
            "hello\n",
            "hello\n"
          ]
        }
      ]
    },
    {
      "cell_type": "code",
      "source": [
        "while True:\n",
        "  n=int(input(\"enter num\"))\n",
        "  if n >0:\n",
        "    break\n",
        "print(\"hy\")"
      ],
      "metadata": {
        "colab": {
          "base_uri": "https://localhost:8080/"
        },
        "id": "hXZr_bk8zv6d",
        "outputId": "8514253d-2b66-4112-916f-649d7c31177f"
      },
      "execution_count": 28,
      "outputs": [
        {
          "output_type": "stream",
          "name": "stdout",
          "text": [
            "enter num-5\n",
            "enter num-8\n",
            "enter num-0\n",
            "enter num8\n",
            "hy\n"
          ]
        }
      ]
    },
    {
      "cell_type": "code",
      "source": [
        "while True:\n",
        "  n=int(input(\"enter num\"))\n",
        "  if n >0:\n",
        "    break\n",
        "for _ in range(n):\n",
        "  print(\"hy\")"
      ],
      "metadata": {
        "colab": {
          "base_uri": "https://localhost:8080/"
        },
        "id": "_xAFtT4302rw",
        "outputId": "58ad750f-ed16-4481-ea69-11e290bce8dd"
      },
      "execution_count": 30,
      "outputs": [
        {
          "output_type": "stream",
          "name": "stdout",
          "text": [
            "enter num-9\n",
            "enter num7\n",
            "hy\n",
            "hy\n",
            "hy\n",
            "hy\n",
            "hy\n",
            "hy\n",
            "hy\n"
          ]
        }
      ]
    },
    {
      "cell_type": "code",
      "source": [
        "def main():\n",
        "  hy(2)\n",
        "def hy(n):\n",
        "  for _ in range(n):\n",
        "    print(\"world\")\n",
        "main()"
      ],
      "metadata": {
        "colab": {
          "base_uri": "https://localhost:8080/"
        },
        "id": "YyzFou6y1c7U",
        "outputId": "38d9be2c-8883-4ae8-d1e0-572100b63ef9"
      },
      "execution_count": 31,
      "outputs": [
        {
          "output_type": "stream",
          "name": "stdout",
          "text": [
            "world\n",
            "world\n"
          ]
        }
      ]
    },
    {
      "cell_type": "code",
      "source": [
        "def main():\n",
        "  number=get_number()\n",
        "  hy(number)\n",
        "def get_number():\n",
        "  while True:\n",
        "    n=int(input(\"what n \"))\n",
        "    if n>0:\n",
        "      return n\n",
        "def hy(n):\n",
        "  for _ in range(n):\n",
        "    print(\"world\")#first we define or store value in  main the function which not form yet then these function will\n",
        "    #move to assign value to other functions etc\n",
        "main()"
      ],
      "metadata": {
        "colab": {
          "base_uri": "https://localhost:8080/"
        },
        "id": "oVJj1TK52Hjt",
        "outputId": "588fe881-9e66-4237-d75b-5b0bbc1a3def"
      },
      "execution_count": 35,
      "outputs": [
        {
          "output_type": "stream",
          "name": "stdout",
          "text": [
            "what n 8\n",
            "world\n",
            "world\n",
            "world\n",
            "world\n",
            "world\n",
            "world\n",
            "world\n",
            "world\n"
          ]
        }
      ]
    },
    {
      "cell_type": "code",
      "source": [],
      "metadata": {
        "id": "2ybWjQfU2ymx"
      },
      "execution_count": null,
      "outputs": []
    }
  ]
}