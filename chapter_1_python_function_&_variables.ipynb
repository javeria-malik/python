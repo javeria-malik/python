{
  "nbformat": 4,
  "nbformat_minor": 0,
  "metadata": {
    "colab": {
      "provenance": []
    },
    "kernelspec": {
      "name": "python3",
      "display_name": "Python 3"
    },
    "language_info": {
      "name": "python"
    }
  },
  "cells": [
    {
      "cell_type": "code",
      "execution_count": null,
      "metadata": {
        "colab": {
          "base_uri": "https://localhost:8080/",
          "height": 53
        },
        "id": "SwZ-IE8nMw1-",
        "outputId": "7755a005-34b3-4985-ca7e-ccbcc45414bf"
      },
      "outputs": [
        {
          "name": "stdout",
          "output_type": "stream",
          "text": [
            "enter your namejaveria \n"
          ]
        },
        {
          "output_type": "execute_result",
          "data": {
            "text/plain": [
              "'javeria '"
            ],
            "application/vnd.google.colaboratory.intrinsic+json": {
              "type": "string"
            }
          },
          "metadata": {},
          "execution_count": 1
        }
      ],
      "source": [
        "input(\"enter your name\")"
      ]
    },
    {
      "cell_type": "code",
      "source": [
        "# actually backend documemtation of print which is actually called function took argument is\n",
        "#print(value, ..., sep=' ', end='\\n', file=sys.stdout, flus .......... here end\\n use to automatically default prgram to next line\n",
        "#lets use print by removing end=\" \\n\"\n",
        "ask=input(\"enter your name\")\n",
        "print(\"hello\"+ask)\n",
        "# now use print with end=\"\"\n",
        "print(\"hello\",end=\"\")# as we can see it written on different line but still print at same line\n",
        "print(ask)\n"
      ],
      "metadata": {
        "colab": {
          "base_uri": "https://localhost:8080/"
        },
        "id": "zrDVpJ_cRPCW",
        "outputId": "51d8d839-2618-4129-b86b-f8dfc3b1e2ed"
      },
      "execution_count": null,
      "outputs": [
        {
          "output_type": "stream",
          "name": "stdout",
          "text": [
            "enter your namejaveria\n",
            "hellojaveria\n",
            "hellojaveria\n"
          ]
        }
      ]
    },
    {
      "cell_type": "code",
      "source": [
        "#what if give any other argument in end\n",
        "print(\"hello\",end=\"////\")# as we can see it written on different line but still print at same line\n",
        "print(ask)# remember this"
      ],
      "metadata": {
        "colab": {
          "base_uri": "https://localhost:8080/"
        },
        "id": "G5VTDzbEV-77",
        "outputId": "df73b909-fb3e-4ac4-e975-194da94375d4"
      },
      "execution_count": null,
      "outputs": [
        {
          "output_type": "stream",
          "name": "stdout",
          "text": [
            "hello////javeria\n"
          ]
        }
      ]
    },
    {
      "cell_type": "code",
      "source": [
        "# sep\n",
        "#print(value, ..., sep=' ', end='\\n', file=sys.stdout, flus\n",
        "print(\"hello\",ask ,sep=\">>>>>>\")\n",
        "print(ask)\n"
      ],
      "metadata": {
        "colab": {
          "base_uri": "https://localhost:8080/"
        },
        "id": "O1mBzlkDWoDa",
        "outputId": "55afa924-095d-4ed7-e190-73fb87b5c007"
      },
      "execution_count": null,
      "outputs": [
        {
          "output_type": "stream",
          "name": "stdout",
          "text": [
            "hello>>>>>>javeria\n",
            "javeria\n"
          ]
        }
      ]
    },
    {
      "cell_type": "code",
      "source": [
        "#fstring\n",
        "print(f\"hello jiya nice to meet u {ask} dont be happy or sad\")"
      ],
      "metadata": {
        "colab": {
          "base_uri": "https://localhost:8080/"
        },
        "id": "T5GY-mr_XBdP",
        "outputId": "dd0b254c-994b-42fa-d2f1-75e939e601a6"
      },
      "execution_count": null,
      "outputs": [
        {
          "output_type": "stream",
          "name": "stdout",
          "text": [
            "hello jiya nice to meet u javeria dont be happy or sad\n"
          ]
        }
      ]
    },
    {
      "cell_type": "code",
      "source": [
        "#strip method.......... use to remove white spaces\n",
        "print(\"hello\",ask)"
      ],
      "metadata": {
        "colab": {
          "base_uri": "https://localhost:8080/"
        },
        "id": "CEBQM6sPYEAm",
        "outputId": "f93f224e-8131-4846-9309-8631be42b8f4"
      },
      "execution_count": null,
      "outputs": [
        {
          "output_type": "stream",
          "name": "stdout",
          "text": [
            "hello javeria\n"
          ]
        }
      ]
    },
    {
      "cell_type": "code",
      "source": [
        "name=input(\"enter name\")\n",
        "print(\"hello\",name)"
      ],
      "metadata": {
        "colab": {
          "base_uri": "https://localhost:8080/"
        },
        "id": "uQirhYptY_7c",
        "outputId": "1eabef67-0ee6-4f67-fb32-a403faf67bd5"
      },
      "execution_count": null,
      "outputs": [
        {
          "output_type": "stream",
          "name": "stdout",
          "text": [
            "enter name             ali        \n",
            "hello              ali        \n"
          ]
        }
      ]
    },
    {
      "cell_type": "code",
      "source": [
        "# now e will apply strip\n",
        "name=input(\"enter name\")\n",
        "name=name.strip()\n",
        "print(\"hello\",name)# as the strip method will remove all white spaces\n",
        "\n"
      ],
      "metadata": {
        "colab": {
          "base_uri": "https://localhost:8080/"
        },
        "id": "pZRGCPHBZNsi",
        "outputId": "84d97f16-0230-4842-d58f-ed419c69fcb2"
      },
      "execution_count": null,
      "outputs": [
        {
          "output_type": "stream",
          "name": "stdout",
          "text": [
            "enter name                ali          \n",
            "hello ali\n"
          ]
        }
      ]
    },
    {
      "cell_type": "code",
      "source": [
        "#captilize() method\n",
        "# will captilize the first letter of your input string\n",
        "name=input(\"enter name\")\n",
        "name=name.capitalize()\n",
        "print(\"hello\",name)# as the strip method will remove all white spaces\n",
        "\n",
        "\n"
      ],
      "metadata": {
        "colab": {
          "base_uri": "https://localhost:8080/"
        },
        "id": "qDq0ms8NZeJU",
        "outputId": "e4ad4ee8-b8fc-40be-d5d5-9f6b2543f3cb"
      },
      "execution_count": null,
      "outputs": [
        {
          "output_type": "stream",
          "name": "stdout",
          "text": [
            "enter name                    jiya\n",
            "hello                     jiya\n"
          ]
        }
      ]
    },
    {
      "cell_type": "code",
      "source": [
        "#title\n",
        "# use for title base capitalization # will capitalize every first letter of string\n",
        "name=input(\"enter name\")\n",
        "name=name.title()\n",
        "print(\"hello\",name)#"
      ],
      "metadata": {
        "colab": {
          "base_uri": "https://localhost:8080/"
        },
        "id": "-gq8oMZyaPB0",
        "outputId": "69b9e2c4-aa41-4301-8717-a227b065ab5f"
      },
      "execution_count": null,
      "outputs": [
        {
          "output_type": "stream",
          "name": "stdout",
          "text": [
            "enter namejaveria malik\n",
            "hello Javeria Malik\n"
          ]
        }
      ]
    },
    {
      "cell_type": "code",
      "source": [
        "name=\"                jiya malik python programmr             \"\n",
        "name=name.strip().title()# strip only remove left and right not in between\n",
        "print(\"hello\",name)# it will aplly both methods"
      ],
      "metadata": {
        "colab": {
          "base_uri": "https://localhost:8080/"
        },
        "id": "dod7We5PbIap",
        "outputId": "3853948c-dfda-4e93-8263-86169104a91a"
      },
      "execution_count": null,
      "outputs": [
        {
          "output_type": "stream",
          "name": "stdout",
          "text": [
            "hello Jiya Malik Python Programmr\n"
          ]
        }
      ]
    },
    {
      "cell_type": "code",
      "source": [
        "#split method is used to split the first and last name or characters into half\n",
        "# in pyton we can give two variables at same time\n",
        "name=input(\"enter name\")\n",
        "first,last = name.split(\" \")\n",
        "print(\"hello\",first)#it eill print only the first name"
      ],
      "metadata": {
        "colab": {
          "base_uri": "https://localhost:8080/"
        },
        "id": "LIJt1eiQbsNy",
        "outputId": "2052acc0-699e-4d04-e673-7d353f046876"
      },
      "execution_count": null,
      "outputs": [
        {
          "output_type": "stream",
          "name": "stdout",
          "text": [
            "enter namejiya malik\n",
            "hello jiya\n"
          ]
        }
      ]
    },
    {
      "cell_type": "code",
      "source": [
        "#integer:Datatype\n",
        "a=int(input(\"enter your your firt num\"))\n",
        "b=int(input(\"enter your your second num\"))\n",
        "sum=a+b\n",
        "sub=a-b\n",
        "multiply=a*b\n",
        "divide=a/b\n",
        "mdulus=a%b\n",
        "floor=a//b\n",
        "print(floor)#is the quotient like output of 6/9 is 0.6 and whil using in floor divison it will be 0 highest integer before .\n"
      ],
      "metadata": {
        "id": "aks_JekJdmlr",
        "colab": {
          "base_uri": "https://localhost:8080/"
        },
        "outputId": "6fbeeb83-b170-47f0-87fa-f8f2f153cf81"
      },
      "execution_count": 1,
      "outputs": [
        {
          "output_type": "stream",
          "name": "stdout",
          "text": [
            "enter your your firt num6\n",
            "enter your your second num9\n",
            "0\n"
          ]
        }
      ]
    },
    {
      "cell_type": "code",
      "source": [
        "#converting one data type to anotyher\n",
        "a=\"8\"\n",
        "b=9\n",
        "print(a+b)\n"
      ],
      "metadata": {
        "colab": {
          "base_uri": "https://localhost:8080/",
          "height": 210
        },
        "id": "BdtQjOZdiimc",
        "outputId": "ca6d200f-b101-4816-f8dc-756c040b7624"
      },
      "execution_count": 2,
      "outputs": [
        {
          "output_type": "error",
          "ename": "TypeError",
          "evalue": "ignored",
          "traceback": [
            "\u001b[0;31m---------------------------------------------------------------------------\u001b[0m",
            "\u001b[0;31mTypeError\u001b[0m                                 Traceback (most recent call last)",
            "\u001b[0;32m<ipython-input-2-bf6cf10d1cc8>\u001b[0m in \u001b[0;36m<cell line: 4>\u001b[0;34m()\u001b[0m\n\u001b[1;32m      2\u001b[0m \u001b[0ma\u001b[0m\u001b[0;34m=\u001b[0m\u001b[0;34m\"8\"\u001b[0m\u001b[0;34m\u001b[0m\u001b[0;34m\u001b[0m\u001b[0m\n\u001b[1;32m      3\u001b[0m \u001b[0mb\u001b[0m\u001b[0;34m=\u001b[0m\u001b[0;36m9\u001b[0m\u001b[0;34m\u001b[0m\u001b[0;34m\u001b[0m\u001b[0m\n\u001b[0;32m----> 4\u001b[0;31m \u001b[0mprint\u001b[0m\u001b[0;34m(\u001b[0m\u001b[0ma\u001b[0m\u001b[0;34m+\u001b[0m\u001b[0mb\u001b[0m\u001b[0;34m)\u001b[0m\u001b[0;34m\u001b[0m\u001b[0;34m\u001b[0m\u001b[0m\n\u001b[0m",
            "\u001b[0;31mTypeError\u001b[0m: can only concatenate str (not \"int\") to str"
          ]
        }
      ]
    },
    {
      "cell_type": "code",
      "source": [
        "# now work with conversion\n",
        "c=int(a)+b\n",
        "print(c)"
      ],
      "metadata": {
        "colab": {
          "base_uri": "https://localhost:8080/"
        },
        "id": "RR5IRe8AjmC3",
        "outputId": "2da44dcb-f52a-4e02-c5d5-d824b32107e4"
      },
      "execution_count": 3,
      "outputs": [
        {
          "output_type": "stream",
          "name": "stdout",
          "text": [
            "17\n"
          ]
        }
      ]
    },
    {
      "cell_type": "code",
      "source": [
        "#round mwthod\n",
        "print(round(7.87+1))# it will round the value"
      ],
      "metadata": {
        "colab": {
          "base_uri": "https://localhost:8080/"
        },
        "id": "B75ZOdVyjvUA",
        "outputId": "e0b8fb20-e9be-4fd1-9cfb-dc89588c5f71"
      },
      "execution_count": 4,
      "outputs": [
        {
          "output_type": "stream",
          "name": "stdout",
          "text": [
            "9\n"
          ]
        }
      ]
    },
    {
      "cell_type": "code",
      "source": [
        "print(round(7.17+1))"
      ],
      "metadata": {
        "colab": {
          "base_uri": "https://localhost:8080/"
        },
        "id": "rdiAUsqWl6fR",
        "outputId": "e716d9f0-ab1e-46e5-82ae-5594cd808905"
      },
      "execution_count": 5,
      "outputs": [
        {
          "output_type": "stream",
          "name": "stdout",
          "text": [
            "8\n"
          ]
        }
      ]
    },
    {
      "cell_type": "code",
      "source": [
        "#we can also include comma by using an approach of f string\n",
        "print(f\"{10000:,}\")#cooma is included in number as per the us way"
      ],
      "metadata": {
        "colab": {
          "base_uri": "https://localhost:8080/"
        },
        "id": "GMFWvTb1mCUj",
        "outputId": "b15fc67c-db16-486a-ad48-e6f022c118ab"
      },
      "execution_count": 8,
      "outputs": [
        {
          "output_type": "stream",
          "name": "stdout",
          "text": [
            "10,000\n"
          ]
        }
      ]
    },
    {
      "cell_type": "code",
      "source": [
        "# we have a limited space of hardware in pc so at somepoint there always be require to convert or round off float infinity value\n",
        "#lets see\n",
        "a=0.99999999\n",
        "b=8\n",
        "print(a+b)"
      ],
      "metadata": {
        "colab": {
          "base_uri": "https://localhost:8080/"
        },
        "id": "m90lt_TimkZX",
        "outputId": "08732fa0-d9bf-4be2-a428-fb6749531366"
      },
      "execution_count": 9,
      "outputs": [
        {
          "output_type": "stream",
          "name": "stdout",
          "text": [
            "8.99999999\n"
          ]
        }
      ]
    },
    {
      "cell_type": "code",
      "source": [
        "print(round(a+b))"
      ],
      "metadata": {
        "colab": {
          "base_uri": "https://localhost:8080/"
        },
        "id": "QDCUlK_wnnPZ",
        "outputId": "8ae68d7d-bdf8-471b-9123-f8e5053d2de0"
      },
      "execution_count": 10,
      "outputs": [
        {
          "output_type": "stream",
          "name": "stdout",
          "text": [
            "9\n"
          ]
        }
      ]
    },
    {
      "cell_type": "code",
      "source": [
        "print(10/3)\n",
        "print(round(10/3))\n",
        "# to set the value or dogits after point use\n",
        "print(round(10/3),3)"
      ],
      "metadata": {
        "colab": {
          "base_uri": "https://localhost:8080/"
        },
        "id": "qPzb7WvFnq9I",
        "outputId": "948ea7a7-7f81-4459-b0ce-e12b760bd82b"
      },
      "execution_count": 11,
      "outputs": [
        {
          "output_type": "stream",
          "name": "stdout",
          "text": [
            "3.3333333333333335\n",
            "3\n",
            "3 3\n"
          ]
        }
      ]
    },
    {
      "cell_type": "code",
      "source": [
        "print((10/3),3)"
      ],
      "metadata": {
        "colab": {
          "base_uri": "https://localhost:8080/"
        },
        "id": "Q6Mvoo-an_XH",
        "outputId": "ce6bbb2a-3588-444c-a702-cbef5e93c571"
      },
      "execution_count": 12,
      "outputs": [
        {
          "output_type": "stream",
          "name": "stdout",
          "text": [
            "3.3333333333333335 3\n"
          ]
        }
      ]
    },
    {
      "cell_type": "code",
      "source": [
        "z=round(10/3)\n",
        "print(z,2)"
      ],
      "metadata": {
        "id": "xrVsZOH1oNTO"
      },
      "execution_count": null,
      "outputs": []
    },
    {
      "cell_type": "code",
      "source": [
        "x=float(input(\"e\"))# here is corrected code\n",
        "y=float(input(\"s e\"))\n",
        "z=round(x/y,2)\n",
        "print(z)"
      ],
      "metadata": {
        "colab": {
          "base_uri": "https://localhost:8080/"
        },
        "id": "ZLBvrvKhoX6C",
        "outputId": "7acf7d09-22c7-455d-831e-e55e1ce01c94"
      },
      "execution_count": 15,
      "outputs": [
        {
          "output_type": "stream",
          "name": "stdout",
          "text": [
            "e2\n",
            "s e3\n",
            "0.67\n"
          ]
        }
      ]
    },
    {
      "cell_type": "code",
      "source": [
        "#here is another way to define the above issye\n",
        "x=float(input(\"e\"))# here is corrected code\n",
        "y=float(input(\"s e\"))\n",
        "z=(x/y)\n",
        "print(f\"{z:.2f}\")"
      ],
      "metadata": {
        "colab": {
          "base_uri": "https://localhost:8080/"
        },
        "id": "h2bh-XLVo8dM",
        "outputId": "9210a02a-9c9d-4c90-fc1a-d40ef6835c6f"
      },
      "execution_count": 17,
      "outputs": [
        {
          "output_type": "stream",
          "name": "stdout",
          "text": [
            "e2\n",
            "s e3\n",
            "0.67\n"
          ]
        }
      ]
    },
    {
      "cell_type": "code",
      "source": [
        "#funxtion\n",
        "def hello(to=\"world\"):\n",
        "  print(\"hello,\",to)\n",
        "hello()\n",
        "name=input(\"enter your name\")\n",
        "hello(name)\n"
      ],
      "metadata": {
        "colab": {
          "base_uri": "https://localhost:8080/"
        },
        "id": "jiiio49wpkNs",
        "outputId": "4908f651-68a3-4a97-f9fb-70f486e416be"
      },
      "execution_count": 25,
      "outputs": [
        {
          "output_type": "stream",
          "name": "stdout",
          "text": [
            "hello, world\n",
            "enter your namejm\n",
            "hello, jm\n"
          ]
        }
      ]
    },
    {
      "cell_type": "code",
      "source": [
        "#lets have function\n",
        "\"\"\" the most imp thing is\n",
        "using function is having parts is main and the other parts can define further \"\"\""
      ],
      "metadata": {
        "colab": {
          "base_uri": "https://localhost:8080/",
          "height": 36
        },
        "id": "glbQbj1csFdo",
        "outputId": "31a40f1a-455d-4945-c91f-fb58779b0d4b"
      },
      "execution_count": 26,
      "outputs": [
        {
          "output_type": "execute_result",
          "data": {
            "text/plain": [
              "' the most imp thing is \\nusing function is having parts is main and the other parts can define further '"
            ],
            "application/vnd.google.colaboratory.intrinsic+json": {
              "type": "string"
            }
          },
          "metadata": {},
          "execution_count": 26
        }
      ]
    },
    {
      "cell_type": "code",
      "source": [
        "def main():\n",
        "  x=int(input(\"enter num\"))\n",
        "  print(\"the square is \",square(x))\n",
        "def square(n):\n",
        "  return n*n\n",
        "main()\n",
        "# here how it works fist it take imput x and print is square  but square function till not define\n",
        "#then we make another function square whic took argumnet n this argumnet will copy t top square as place x in place of function x\n",
        "#then the call main()"
      ],
      "metadata": {
        "colab": {
          "base_uri": "https://localhost:8080/"
        },
        "id": "dfDH9wU1wOJo",
        "outputId": "5c1e7c6b-7676-4549-ea31-b68a816c76c4"
      },
      "execution_count": 27,
      "outputs": [
        {
          "output_type": "stream",
          "name": "stdout",
          "text": [
            "enter num4\n",
            "the square is  16\n"
          ]
        }
      ]
    },
    {
      "cell_type": "code",
      "source": [
        "def main():\n",
        "  y=[]\n",
        "  x=input(\"enter list of their function\")\n",
        "  y.append(x)\n",
        "  work=input(\"enter day\")\n",
        "  print(y,list(work))\n",
        "\n",
        "def list(home):\n",
        "  return home\n",
        "main()\n"
      ],
      "metadata": {
        "colab": {
          "base_uri": "https://localhost:8080/"
        },
        "id": "yprFFlWQwlre",
        "outputId": "45c2f11d-6f03-439e-bcfd-cfbb38522e91"
      },
      "execution_count": 30,
      "outputs": [
        {
          "output_type": "stream",
          "name": "stdout",
          "text": [
            "enter list of their functionwhite\n",
            "enter dayyesterday\n",
            "['white'] yesterday\n"
          ]
        }
      ]
    },
    {
      "cell_type": "code",
      "source": [],
      "metadata": {
        "id": "EJTzE7-FxvuQ"
      },
      "execution_count": null,
      "outputs": []
    }
  ]
}