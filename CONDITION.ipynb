{
  "nbformat": 4,
  "nbformat_minor": 0,
  "metadata": {
    "colab": {
      "provenance": []
    },
    "kernelspec": {
      "name": "python3",
      "display_name": "Python 3"
    },
    "language_info": {
      "name": "python"
    }
  },
  "cells": [
    {
      "cell_type": "code",
      "execution_count": 2,
      "metadata": {
        "colab": {
          "base_uri": "https://localhost:8080/"
        },
        "id": "x1weJINMOVlp",
        "outputId": "7ba87a32-4cdc-46aa-a65f-fcba1cbca074"
      },
      "outputs": [
        {
          "output_type": "stream",
          "name": "stdout",
          "text": [
            "what is x6\n",
            "what is y6\n",
            "equal but strange\n"
          ]
        }
      ],
      "source": [
        "#conditions\n",
        "x=int(input(\"what is x\"))\n",
        "y=int(input(\"what is y\"))\n",
        "if x<y:\n",
        "  print(\"hello its alright\")\n",
        "else :\n",
        "  print(\"equal but strange\")"
      ]
    },
    {
      "cell_type": "code",
      "source": [
        "#use elif\n",
        "x=int(input(\"enter your numbr\"))\n",
        "y=int(input(\"input enter your number\"))\n",
        "if x==y:\n",
        "  print(\"both are equal\")\n",
        "elif x>y:\n",
        "  print(\"x is greater than y\")\n",
        "elif x>10:\n",
        "  print(\"awesome\")\n",
        "else:\n",
        "  print(\"stop\")"
      ],
      "metadata": {
        "colab": {
          "base_uri": "https://localhost:8080/"
        },
        "id": "oZeePc7kQUfL",
        "outputId": "c255bc7b-1b35-41fb-9268-eaf4908e6a30"
      },
      "execution_count": 4,
      "outputs": [
        {
          "output_type": "stream",
          "name": "stdout",
          "text": [
            "enter your numbr20\n",
            "input enter your number10\n",
            "x is greater than y\n"
          ]
        }
      ]
    },
    {
      "cell_type": "code",
      "source": [
        "x=int(input(\"enter your numbr\"))\n",
        "y=int(input(\"input enter your number\"))\n",
        "if x>y and x==10:\n",
        "  print(\"both are equal\")\n",
        "elif x>y:\n",
        "  print(\"x is greater than y\")\n",
        "elif x>10:\n",
        "  print(\"awesome\")\n",
        "else:\n",
        "  print(\"stop\")"
      ],
      "metadata": {
        "colab": {
          "base_uri": "https://localhost:8080/"
        },
        "id": "Lk1aQ_e9SenI",
        "outputId": "0a984c1f-8e9a-48fb-ac9c-365ac45a4066"
      },
      "execution_count": 5,
      "outputs": [
        {
          "output_type": "stream",
          "name": "stdout",
          "text": [
            "enter your numbr10\n",
            "input enter your number5\n",
            "both are equal\n"
          ]
        }
      ]
    },
    {
      "cell_type": "code",
      "source": [
        "score=int(input(\"enter your score\"))\n",
        "if score >=90:\n",
        "  print(\"grade A\")\n",
        "if score >=80:\n",
        "  print(\"grade B\")\n",
        "if score >=70:\n",
        "  print(\"grade C\")#it will execute all block\n"
      ],
      "metadata": {
        "colab": {
          "base_uri": "https://localhost:8080/"
        },
        "id": "zyLo70E5T72I",
        "outputId": "1951093e-f4f5-4954-f6b3-a5b5420e9d8c"
      },
      "execution_count": 6,
      "outputs": [
        {
          "output_type": "stream",
          "name": "stdout",
          "text": [
            "enter your score95\n",
            "grade A\n",
            "grade B\n",
            "grade C\n"
          ]
        }
      ]
    },
    {
      "cell_type": "code",
      "source": [
        "score=int(input(\"enter your score\"))\n",
        "if score >=90:\n",
        "  print(\"grade A\")\n",
        "elif score >=80:\n",
        "  print(\"grade B\")\n",
        "elif score >=70:\n",
        "  print(\"grade C\")"
      ],
      "metadata": {
        "colab": {
          "base_uri": "https://localhost:8080/"
        },
        "id": "5T3RW8jVU_2U",
        "outputId": "4700cad9-6b25-440f-ffae-5a4f3762c3a6"
      },
      "execution_count": 7,
      "outputs": [
        {
          "output_type": "stream",
          "name": "stdout",
          "text": [
            "enter your score95\n",
            "grade A\n"
          ]
        }
      ]
    },
    {
      "cell_type": "code",
      "source": [
        "def main():\n",
        "  x=int(input(\"enter your number\"))\n",
        "  if is_even(x):\n",
        "    print(\"even\")\n",
        "  else:\n",
        "    print(\"odd\")\n",
        "def is_even(n):\n",
        "  if n%2==0:\n",
        "    return True\n",
        "  else:\n",
        "     return False\n",
        "main()"
      ],
      "metadata": {
        "colab": {
          "base_uri": "https://localhost:8080/"
        },
        "id": "SCFJW2JKVOk3",
        "outputId": "47539246-c886-479f-8a01-e95f14c7d571"
      },
      "execution_count": 8,
      "outputs": [
        {
          "output_type": "stream",
          "name": "stdout",
          "text": [
            "enter your number4\n",
            "even\n"
          ]
        }
      ]
    },
    {
      "cell_type": "code",
      "source": [
        "def main():\n",
        "  x=int(input(\"enter your number\"))\n",
        "  if is_even(x):\n",
        "    print(\"even\")\n",
        "  else:\n",
        "    print(\"odd\")\n",
        "def is_even(n):\n",
        "    return True if n % 2==0 else False\n",
        "\n",
        "main()"
      ],
      "metadata": {
        "colab": {
          "base_uri": "https://localhost:8080/"
        },
        "id": "Qul4oyGPYOur",
        "outputId": "b4ab186f-a998-48a9-93e0-e182029babf9"
      },
      "execution_count": 9,
      "outputs": [
        {
          "output_type": "stream",
          "name": "stdout",
          "text": [
            "enter your number79\n",
            "odd\n"
          ]
        }
      ]
    },
    {
      "cell_type": "code",
      "source": [
        "#match\n",
        "#its actually an if statment lets make a code\n",
        "name=input(\"enter your name \").lower()\n",
        "match name:\n",
        "  case \"javeria\":\n",
        "    print(\"faisalabad\")\n",
        "  case \"umar\":\n",
        "    print(\"isb\")\n",
        "  case \"hassan\":\n",
        "     print(\"lahore\")\n",
        "  case _:\n",
        "    print(\"who\")\n"
      ],
      "metadata": {
        "colab": {
          "base_uri": "https://localhost:8080/"
        },
        "id": "94J_Zw54YqfS",
        "outputId": "37d4d7a3-52da-4660-89bf-53d6dfaa74af"
      },
      "execution_count": 14,
      "outputs": [
        {
          "output_type": "stream",
          "name": "stdout",
          "text": [
            "enter your name JAVERIA\n",
            "faisalabad\n"
          ]
        }
      ]
    },
    {
      "cell_type": "code",
      "source": [
        "def main():\n",
        "  name=input(\"whats your name\")\n",
        "  if who(x):\n",
        "    print(\"hello\")\n",
        "  else:\n",
        "    print(\"introduce\")\n",
        "def who(n):\n",
        "    if n==\"javeria\":\n",
        "      return True\n",
        "    else:\n",
        "      return False\n",
        "main()"
      ],
      "metadata": {
        "colab": {
          "base_uri": "https://localhost:8080/"
        },
        "id": "66DOiiesaX4g",
        "outputId": "02853517-b8ff-4c5b-a1cd-8c81284585e2"
      },
      "execution_count": 21,
      "outputs": [
        {
          "output_type": "stream",
          "name": "stdout",
          "text": [
            "whats your namejiya\n",
            "introduce\n"
          ]
        }
      ]
    },
    {
      "cell_type": "code",
      "source": [
        "#match\n",
        "#its actually an if statment lets make a code\n",
        "name=input(\"enter your name \").lower()\n",
        "match name:\n",
        "  case \"javeria\" | \"bisma\" |\"ayesha\":\n",
        "    print(\"faisalabad\")\n",
        "  case \"umar\":\n",
        "    print(\"isb\")\n",
        "  case \"hassan\":\n",
        "     print(\"lahore\")\n",
        "  case _:\n",
        "    print(\"who\")\n"
      ],
      "metadata": {
        "colab": {
          "base_uri": "https://localhost:8080/"
        },
        "id": "z0xuhj9oa_wt",
        "outputId": "43842141-d67a-4caa-e078-819b037cd22e"
      },
      "execution_count": 24,
      "outputs": [
        {
          "output_type": "stream",
          "name": "stdout",
          "text": [
            "enter your name hassan\n",
            "lahore\n"
          ]
        }
      ]
    },
    {
      "cell_type": "code",
      "source": [],
      "metadata": {
        "id": "kZwGLFAPcoGd"
      },
      "execution_count": 24,
      "outputs": []
    }
  ]
}