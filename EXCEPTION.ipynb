{
 "cells": [
  {
   "cell_type": "code",
   "execution_count": 3,
   "id": "f9c3d0b0",
   "metadata": {},
   "outputs": [],
   "source": [
    "#EXCEPTION"
   ]
  },
  {
   "cell_type": "code",
   "execution_count": 4,
   "id": "3b816c24",
   "metadata": {},
   "outputs": [
    {
     "name": "stdout",
     "output_type": "stream",
     "text": [
      "welcome to topic of exceptions\n"
     ]
    }
   ],
   "source": [
    "print(\"welcome to topic of exceptions\")"
   ]
  },
  {
   "cell_type": "code",
   "execution_count": 5,
   "id": "7ab6e404",
   "metadata": {},
   "outputs": [
    {
     "ename": "SyntaxError",
     "evalue": "unterminated string literal (detected at line 2) (1381608161.py, line 2)",
     "output_type": "error",
     "traceback": [
      "\u001b[1;36m  Cell \u001b[1;32mIn[5], line 2\u001b[1;36m\u001b[0m\n\u001b[1;33m    print(\"hello)\u001b[0m\n\u001b[1;37m          ^\u001b[0m\n\u001b[1;31mSyntaxError\u001b[0m\u001b[1;31m:\u001b[0m unterminated string literal (detected at line 2)\n"
     ]
    }
   ],
   "source": [
    "#syntax error: error in writing the code\n",
    "print(\"hello)"
   ]
  },
  {
   "cell_type": "code",
   "execution_count": 6,
   "id": "19eaeee8",
   "metadata": {},
   "outputs": [
    {
     "name": "stdout",
     "output_type": "stream",
     "text": [
      "enter x\n"
     ]
    },
    {
     "ename": "ValueError",
     "evalue": "invalid literal for int() with base 10: ''",
     "output_type": "error",
     "traceback": [
      "\u001b[1;31m---------------------------------------------------------------------------\u001b[0m",
      "\u001b[1;31mValueError\u001b[0m                                Traceback (most recent call last)",
      "Cell \u001b[1;32mIn[6], line 1\u001b[0m\n\u001b[1;32m----> 1\u001b[0m x\u001b[38;5;241m=\u001b[39m\u001b[38;5;28mint\u001b[39m(\u001b[38;5;28minput\u001b[39m(\u001b[38;5;124m\"\u001b[39m\u001b[38;5;124menter x\u001b[39m\u001b[38;5;124m\"\u001b[39m))\n\u001b[0;32m      2\u001b[0m \u001b[38;5;28mprint\u001b[39m(\u001b[38;5;124mf\u001b[39m\u001b[38;5;124m\"\u001b[39m\u001b[38;5;124mx is,\u001b[39m\u001b[38;5;132;01m{\u001b[39;00mx\u001b[38;5;132;01m}\u001b[39;00m\u001b[38;5;124m\"\u001b[39m)\n",
      "\u001b[1;31mValueError\u001b[0m: invalid literal for int() with base 10: ''"
     ]
    }
   ],
   "source": [
    "x=int(input(\"enter x\"))\n",
    "print(f\"x is,{x}\")"
   ]
  },
  {
   "cell_type": "code",
   "execution_count": null,
   "id": "71e54a63",
   "metadata": {},
   "outputs": [],
   "source": [
    "#value error\n",
    "#when invalid value is given"
   ]
  },
  {
   "cell_type": "code",
   "execution_count": 7,
   "id": "b6c2539b",
   "metadata": {},
   "outputs": [
    {
     "name": "stdout",
     "output_type": "stream",
     "text": [
      "enter x\n"
     ]
    },
    {
     "ename": "ValueError",
     "evalue": "invalid literal for int() with base 10: ''",
     "output_type": "error",
     "traceback": [
      "\u001b[1;31m---------------------------------------------------------------------------\u001b[0m",
      "\u001b[1;31mValueError\u001b[0m                                Traceback (most recent call last)",
      "Cell \u001b[1;32mIn[7], line 1\u001b[0m\n\u001b[1;32m----> 1\u001b[0m x\u001b[38;5;241m=\u001b[39m\u001b[38;5;28mint\u001b[39m(\u001b[38;5;28minput\u001b[39m(\u001b[38;5;124m\"\u001b[39m\u001b[38;5;124menter x\u001b[39m\u001b[38;5;124m\"\u001b[39m))\n\u001b[0;32m      2\u001b[0m \u001b[38;5;28mprint\u001b[39m(\u001b[38;5;124mf\u001b[39m\u001b[38;5;124m\"\u001b[39m\u001b[38;5;124mx is,\u001b[39m\u001b[38;5;132;01m{\u001b[39;00mx\u001b[38;5;132;01m}\u001b[39;00m\u001b[38;5;124m\"\u001b[39m)\n",
      "\u001b[1;31mValueError\u001b[0m: invalid literal for int() with base 10: ''"
     ]
    }
   ],
   "source": [
    "x=int(input(\"enter x\"))\n",
    "print(f\"x is,{x}\")"
   ]
  },
  {
   "cell_type": "code",
   "execution_count": 8,
   "id": "eb13aa02",
   "metadata": {},
   "outputs": [],
   "source": [
    "#exceptional handling involves two type of key words\n",
    "#try \n",
    "#except"
   ]
  },
  {
   "cell_type": "code",
   "execution_count": 9,
   "id": "e9ac4f62",
   "metadata": {},
   "outputs": [
    {
     "name": "stdout",
     "output_type": "stream",
     "text": [
      "enter x\n",
      "its not an integer\n"
     ]
    }
   ],
   "source": [
    "try:\n",
    "    x=int(input(\"enter x\"))\n",
    "    print(f\"x is,{x}\")\n",
    "except ValueError:\n",
    "        print(\"its not an integer\")"
   ]
  },
  {
   "cell_type": "code",
   "execution_count": 10,
   "id": "ac6bf1da",
   "metadata": {},
   "outputs": [],
   "source": [
    "#name error"
   ]
  },
  {
   "cell_type": "code",
   "execution_count": 11,
   "id": "0a3b0a76",
   "metadata": {},
   "outputs": [],
   "source": [
    "#name error usually occured when var value is notdefine"
   ]
  },
  {
   "cell_type": "code",
   "execution_count": 2,
   "id": "35580618",
   "metadata": {},
   "outputs": [
    {
     "name": "stdout",
     "output_type": "stream",
     "text": [
      "enter xj\n",
      "its not an integer\n"
     ]
    },
    {
     "ename": "NameError",
     "evalue": "name 'x' is not defined",
     "output_type": "error",
     "traceback": [
      "\u001b[1;31m---------------------------------------------------------------------------\u001b[0m",
      "\u001b[1;31mNameError\u001b[0m                                 Traceback (most recent call last)",
      "Cell \u001b[1;32mIn[2], line 6\u001b[0m\n\u001b[0;32m      4\u001b[0m \u001b[38;5;28;01mexcept\u001b[39;00m \u001b[38;5;167;01mValueError\u001b[39;00m:\n\u001b[0;32m      5\u001b[0m         \u001b[38;5;28mprint\u001b[39m(\u001b[38;5;124m\"\u001b[39m\u001b[38;5;124mits not an integer\u001b[39m\u001b[38;5;124m\"\u001b[39m)\n\u001b[1;32m----> 6\u001b[0m \u001b[38;5;28mprint\u001b[39m(\u001b[38;5;124mf\u001b[39m\u001b[38;5;124m\"\u001b[39m\u001b[38;5;124mx is,\u001b[39m\u001b[38;5;132;01m{\u001b[39;00mx\u001b[38;5;132;01m}\u001b[39;00m\u001b[38;5;124m\"\u001b[39m)\n",
      "\u001b[1;31mNameError\u001b[0m: name 'x' is not defined"
     ]
    }
   ],
   "source": [
    "try:\n",
    "    x=int(input(\"enter x\"))\n",
    "    print(f\"x is,{x}\")\n",
    "except ValueError:\n",
    "        print(\"its not an integer\")\n",
    "print(f\"x is,{x}\")"
   ]
  },
  {
   "cell_type": "code",
   "execution_count": 3,
   "id": "a02e0375",
   "metadata": {},
   "outputs": [
    {
     "name": "stdout",
     "output_type": "stream",
     "text": [
      "enter xj\n",
      "its not an integer\n"
     ]
    }
   ],
   "source": [
    "try:\n",
    "    x=int(input(\"enter x\"))\n",
    "    print(f\"x is,{x}\")\n",
    "except ValueError:\n",
    "        print(\"its not an integer\")\n",
    "else:\n",
    "    print(f\"x is,{x}\")"
   ]
  },
  {
   "cell_type": "code",
   "execution_count": null,
   "id": "f692e010",
   "metadata": {},
   "outputs": [
    {
     "name": "stdout",
     "output_type": "stream",
     "text": [
      "enter xcat\n",
      "its not an integer\n"
     ]
    }
   ],
   "source": [
    "while True:\n",
    "    try:\n",
    "        x=int(input(\"enter x\"))\n",
    "        print(f\"x is,{x}\")\n",
    "    except ValueError:\n",
    "       \n",
    "        print(\"its not an integer\")\n",
    "    else:\n",
    "        break\n",
    "print(f\"x is,{x}\")"
   ]
  },
  {
   "cell_type": "code",
   "execution_count": 1,
   "id": "a83718df",
   "metadata": {},
   "outputs": [
    {
     "name": "stdout",
     "output_type": "stream",
     "text": [
      "enter xcat\n",
      "its not an integer\n",
      "enter x7\n",
      "x is,7\n"
     ]
    }
   ],
   "source": [
    "while True:\n",
    "    try:\n",
    "        x=int(input(\"enter x\"))\n",
    "        break\n",
    "    except ValueError:\n",
    "       \n",
    "        print(\"its not an integer\")\n",
    "    \n",
    "print(f\"x is,{x}\")"
   ]
  },
  {
   "cell_type": "code",
   "execution_count": null,
   "id": "5b0036f7",
   "metadata": {},
   "outputs": [],
   "source": []
  }
 ],
 "metadata": {
  "kernelspec": {
   "display_name": "Python 3 (ipykernel)",
   "language": "python",
   "name": "python3"
  },
  "language_info": {
   "codemirror_mode": {
    "name": "ipython",
    "version": 3
   },
   "file_extension": ".py",
   "mimetype": "text/x-python",
   "name": "python",
   "nbconvert_exporter": "python",
   "pygments_lexer": "ipython3",
   "version": "3.11.4"
  }
 },
 "nbformat": 4,
 "nbformat_minor": 5
}
